{
 "cells": [
  {
   "cell_type": "markdown",
   "id": "23f50458",
   "metadata": {},
   "source": [
    "# Assignment No.03"
   ]
  },
  {
   "cell_type": "markdown",
   "id": "6e786816",
   "metadata": {},
   "source": [
    "**1. Why are functions advantageous to have in your programs?**\n",
    "\n",
    "**Ans:**\n",
    "\n",
    "            Having functions is Advantageous because:\n",
    "        1. instead of writing a long code to do a specific operation we can simply use function to carry out the same.\n",
    "        2. improving code clarity\n",
    "        3. functions are reusable\n",
    "        4. we can also create our own functions"
   ]
  },
  {
   "cell_type": "markdown",
   "id": "d78e29ec",
   "metadata": {},
   "source": [
    "**2. When does the code in a function run: when it's specified or when it's called?**\n",
    "\n",
    "**Ans:**\n",
    "\n",
    "      When the function is called the code inside starts to run.When a function is \"called\" the program \"leaves\" the current section of the code and begins to execute the first line inside the function."
   ]
  },
  {
   "cell_type": "markdown",
   "id": "18654396",
   "metadata": {},
   "source": [
    "**3. What statement creates a function?**\n",
    "\n",
    "**Ans:** \n",
    "                \" def \" statement creates a function.\n",
    "        \n",
    "        Example: def [name_of_function](argument):\n",
    "                    \"\"\"Function description\"\"\"\n",
    "                    ---python code---\n",
    "                    return value"
   ]
  },
  {
   "cell_type": "markdown",
   "id": "d93dec20",
   "metadata": {},
   "source": [
    "**4. What is the difference between a function and a function call?**\n",
    "\n",
    "**Ans:**\n",
    "\n",
    "                 A function is a reusable block of code which is used to do a particular task. where as the function call is an expression containing the function name followed by th function call operator ()."
   ]
  },
  {
   "cell_type": "markdown",
   "id": "033a0375",
   "metadata": {},
   "source": [
    "**5. How many global scopes are there in a Python program? How many local scopes?**\n",
    "\n",
    "**Ans:** \n",
    "\n",
    "        There's only one Global scope in a Python program whereas one can have as many local scopes as they want."
   ]
  },
  {
   "cell_type": "markdown",
   "id": "13e1a7cb",
   "metadata": {},
   "source": [
    "**6. What happens to variables in a local scope when the function call returns?**\n",
    "\n",
    "**Ans:** \n",
    "\n",
    "        When the execution of the function terminates (returns), the local variables are destroyed.\n",
    "        Codelens helps you visualize this because the local variables disappear after the function returns. "
   ]
  },
  {
   "cell_type": "markdown",
   "id": "98fbab57",
   "metadata": {},
   "source": [
    "**7. What is the concept of a return value? Is it possible to have a return value in an expression?**\n",
    "\n",
    "**Ans:**\n",
    "\n",
    "A function performs some operation and returns a value or object. The value that a function returns to the caller is generally known as the function's return value. Yes, it is possible to have a return value in an expression as in python everything is an object which one can return strings, lists, tuples, classes, user-defined objects,etc."
   ]
  },
  {
   "cell_type": "markdown",
   "id": "b202b588",
   "metadata": {},
   "source": [
    "**8. If a function does not have a return statement, what is the return value of a call to that function?**\n",
    "\n",
    "**Ans:** \n",
    "\n",
    "        If a function does not have a return statement, the control automatically returns to the calling function after the last statement of the called function is executed. In this cas, the return value of the called function is undefined."
   ]
  },
  {
   "cell_type": "markdown",
   "id": "26b06ef0",
   "metadata": {},
   "source": [
    "**9. How do you make a function variable refer to the global variable?**\n",
    "\n",
    "**Ans:**\n",
    "\n",
    "        A global statement will force a variable in a function to refer to the global variable."
   ]
  },
  {
   "cell_type": "markdown",
   "id": "1271fb63",
   "metadata": {},
   "source": [
    "**10. What is the data type of None?**\n",
    "\n",
    "**Ans:**\n",
    "\n",
    "        The data type of None is NoneType.None is not the same as 0(int), False(boolean), or an empty string(str)."
   ]
  },
  {
   "cell_type": "markdown",
   "id": "dfda63b3",
   "metadata": {},
   "source": [
    "**11. What does the sentence import areallyourpetsnamederic do?**\n",
    "\n",
    "**Ans:**\n",
    "        The above statement should import module areallyoupetsnamederic."
   ]
  },
  {
   "cell_type": "markdown",
   "id": "3254fced",
   "metadata": {},
   "source": [
    "**12. If you had a bacon() feature in a spam module, what would you call it after importing spam?**\n",
    "\n",
    "**Ans:**\n",
    "        \n",
    "        After importing module spam, to call function bacon() the syntax is spam.bacon(). "
   ]
  },
  {
   "cell_type": "markdown",
   "id": "1e84c88b",
   "metadata": {},
   "source": [
    "**13. What can you do to save a programme from crashing if it encounters an error?**\n",
    "\n",
    "**Ans:**\n",
    "        \n",
    "        To counter the program from crashing we can use Error Handling which consists of two methods exception handling(try-except) and Assertions."
   ]
  },
  {
   "cell_type": "markdown",
   "id": "e27895ff",
   "metadata": {},
   "source": [
    "**14. What is the purpose of the try clause? What is the purpose of the except clause?**\n",
    "\n",
    "**Ans:**\n",
    "\n",
    "            Whle using exception handling i.e try and except statements, try clause is used to test the code of errors while the except clause is used to handle the error."
   ]
  }
 ],
 "metadata": {
  "kernelspec": {
   "display_name": "Python 3 (ipykernel)",
   "language": "python",
   "name": "python3"
  },
  "language_info": {
   "codemirror_mode": {
    "name": "ipython",
    "version": 3
   },
   "file_extension": ".py",
   "mimetype": "text/x-python",
   "name": "python",
   "nbconvert_exporter": "python",
   "pygments_lexer": "ipython3",
   "version": "3.9.12"
  }
 },
 "nbformat": 4,
 "nbformat_minor": 5
}
