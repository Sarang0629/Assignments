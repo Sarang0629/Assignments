{
 "cells": [
  {
   "cell_type": "markdown",
   "id": "b70e41c5",
   "metadata": {},
   "source": [
    "# Assignment No. 4"
   ]
  },
  {
   "cell_type": "markdown",
   "id": "01bd4cee",
   "metadata": {},
   "source": [
    "**1. What exactly is []?**\n",
    "\n",
    "**Ans:**\n",
    "\n",
    "    The square brackets \" [] \" represents an empty list which has no values in it. One of the examples of an empty list can be, creating an empty list to copy or clone values from another."
   ]
  },
  {
   "cell_type": "markdown",
   "id": "22b42ea2",
   "metadata": {},
   "source": [
    "**2. In a list of values stored in a variable called spam, how would you assign the value 'hello' as the third value? (Assume [2, 4, 6, 8, 10] are in spam.)**"
   ]
  },
  {
   "cell_type": "code",
   "execution_count": 1,
   "id": "adae36c1",
   "metadata": {},
   "outputs": [
    {
     "name": "stdout",
     "output_type": "stream",
     "text": [
      "[2, 4, 'hello', 8, 10]\n"
     ]
    }
   ],
   "source": [
    "#Ans:\n",
    "\n",
    "spam =[2,4,6,8,10]\n",
    "\n",
    "spam[2] = 'hello'\n",
    "\n",
    "print(spam)"
   ]
  },
  {
   "cell_type": "markdown",
   "id": "b5c37824",
   "metadata": {},
   "source": [
    "### Let's pretend the spam includes the list ['a', 'b', 'c', 'd'] for the next three queries."
   ]
  },
  {
   "cell_type": "markdown",
   "id": "468d4148",
   "metadata": {},
   "source": [
    "**3. What is the value of spam[int(int('3' * 2) / 11)]?**"
   ]
  },
  {
   "cell_type": "code",
   "execution_count": 2,
   "id": "563a6e62",
   "metadata": {},
   "outputs": [
    {
     "name": "stdout",
     "output_type": "stream",
     "text": [
      "The value for spam[int(int('3' * 2)/11) :  d\n"
     ]
    }
   ],
   "source": [
    "#Ans:\n",
    "\n",
    "spam = ['a','b','c','d']\n",
    "\n",
    "print(\"The value for spam[int(int('3' * 2)/11) : \" ,spam[int(int('3' * 2)/11)])"
   ]
  },
  {
   "cell_type": "markdown",
   "id": "a7d467c8",
   "metadata": {},
   "source": [
    "**4. What is the value of spam[-1]?**"
   ]
  },
  {
   "cell_type": "code",
   "execution_count": 3,
   "id": "596944a7",
   "metadata": {},
   "outputs": [
    {
     "name": "stdout",
     "output_type": "stream",
     "text": [
      "The value for spam[-1] :  d\n"
     ]
    }
   ],
   "source": [
    "#Ans:\n",
    "\n",
    "print(\"The value for spam[-1] : \",spam[-1])"
   ]
  },
  {
   "cell_type": "markdown",
   "id": "7ae94955",
   "metadata": {},
   "source": [
    "**5. What is the value of spam[:2]?**"
   ]
  },
  {
   "cell_type": "code",
   "execution_count": 4,
   "id": "4d757e0c",
   "metadata": {},
   "outputs": [
    {
     "name": "stdout",
     "output_type": "stream",
     "text": [
      "The value for spam[:2] :  ['a', 'b']\n"
     ]
    }
   ],
   "source": [
    "#Ans:\n",
    "print(\"The value for spam[:2] : \", spam[:2] )"
   ]
  },
  {
   "cell_type": "markdown",
   "id": "618469ea",
   "metadata": {},
   "source": [
    "### Let's pretend bacon has the list [3.14, 'cat', 11, 'cat', True] for the next three questions. "
   ]
  },
  {
   "cell_type": "code",
   "execution_count": 5,
   "id": "e341c68a",
   "metadata": {},
   "outputs": [],
   "source": [
    "bacon = [3.14, 'cat', 11, 'cat', True]"
   ]
  },
  {
   "cell_type": "markdown",
   "id": "63b9727a",
   "metadata": {},
   "source": [
    "**6. What is the value of bacon.index('cat')?**"
   ]
  },
  {
   "cell_type": "code",
   "execution_count": 6,
   "id": "40757e4a",
   "metadata": {},
   "outputs": [
    {
     "name": "stdout",
     "output_type": "stream",
     "text": [
      "The value for bacon.index('cat') is : 1\n"
     ]
    }
   ],
   "source": [
    "#Ans:\n",
    "print(\"The value for bacon.index('cat') is :\",bacon.index('cat') )"
   ]
  },
  {
   "cell_type": "markdown",
   "id": "500c3699",
   "metadata": {},
   "source": [
    "**7. How does bacon.append(99) change the look of the list value in bacon?**\n",
    "\n",
    "**Ans**:\n",
    "\n",
    "        An append function adds the argument passed inside the function in the last position or index of the list.\n",
    "        Here, bacon.append(99) will add int 99 at the last of the bacon list."
   ]
  },
  {
   "cell_type": "code",
   "execution_count": 7,
   "id": "dcf0d4cb",
   "metadata": {},
   "outputs": [
    {
     "data": {
      "text/plain": [
       "[3.14, 'cat', 11, 'cat', True, 99]"
      ]
     },
     "execution_count": 7,
     "metadata": {},
     "output_type": "execute_result"
    }
   ],
   "source": [
    "bacon.append(99)\n",
    "bacon"
   ]
  },
  {
   "cell_type": "markdown",
   "id": "274e33b2",
   "metadata": {},
   "source": [
    "**8. How does bacon.remove('cat') change the look of the list in bacon?**\n",
    "\n",
    "**Ans:**\n",
    "\n",
    "        Remove function removes the value or argument passed inside the function. Here, bacon.remove(\"cat\") will remove the value passed from the list bacon."
   ]
  },
  {
   "cell_type": "code",
   "execution_count": 8,
   "id": "10d2e9b6",
   "metadata": {},
   "outputs": [
    {
     "data": {
      "text/plain": [
       "[3.14, 11, 'cat', True, 99]"
      ]
     },
     "execution_count": 8,
     "metadata": {},
     "output_type": "execute_result"
    }
   ],
   "source": [
    "bacon.remove('cat')\n",
    "bacon"
   ]
  },
  {
   "cell_type": "markdown",
   "id": "6be18e6e",
   "metadata": {},
   "source": [
    "**9. What are the list concatenation and list replication operators?**\n",
    "\n",
    "**Ans:**\n",
    "\n",
    "        The list concatenation operator is +, which adds/ join multiple lists\n",
    "        The list replication operator is *, which copies the values inside the list\n",
    "        \n",
    "      For example:"
   ]
  },
  {
   "cell_type": "code",
   "execution_count": 9,
   "id": "e61ff564",
   "metadata": {},
   "outputs": [
    {
     "name": "stdout",
     "output_type": "stream",
     "text": [
      "[1, 2, 3, 4, 5, 6]\n"
     ]
    }
   ],
   "source": [
    "x = [1,2,3]\n",
    "y = [4,5,6]\n",
    "z = x + y\n",
    "print(z)"
   ]
  },
  {
   "cell_type": "code",
   "execution_count": 10,
   "id": "ab60ae6f",
   "metadata": {},
   "outputs": [
    {
     "name": "stdout",
     "output_type": "stream",
     "text": [
      "[1, 2, 3, 1, 2, 3]\n"
     ]
    }
   ],
   "source": [
    "x1 = [1,2,3] * 2\n",
    "print(x1)"
   ]
  },
  {
   "cell_type": "markdown",
   "id": "0c7f8a42",
   "metadata": {},
   "source": [
    "**10. What is difference between the list methods append() and insert()?**\n",
    "\n",
    "**Ans:**\n",
    "\n",
    "           Both append() and insert() functions are used to add values inside a list, the only difference between them is that in append we add the value at the last postion or index of the list and in insert we can add the values to a specific index."
   ]
  },
  {
   "cell_type": "markdown",
   "id": "4a87d294",
   "metadata": {},
   "source": [
    "**11. What are the two methods for removing items from a list?**\n",
    "\n",
    "**Ans:**\n",
    "\n",
    "        The two functions used to remove items from a list are:\n",
    "        1. remove() - function is used to remove the first occurance of specified element\n",
    "        2. pop() - function is to remove the values at the last index\n",
    "        "
   ]
  },
  {
   "cell_type": "code",
   "execution_count": 11,
   "id": "37d0b652",
   "metadata": {},
   "outputs": [
    {
     "name": "stdout",
     "output_type": "stream",
     "text": [
      "[1, 7, 5, 9, 6, 8, 3]\n"
     ]
    }
   ],
   "source": [
    "g = [1,7,8,5,9,6,8,3,2]\n",
    "\n",
    "g.remove(8)\n",
    "\n",
    "g.pop()\n",
    "\n",
    "print(g)"
   ]
  },
  {
   "cell_type": "markdown",
   "id": "31c5cafa",
   "metadata": {},
   "source": [
    "**12. Describe how list values and string values are identical.**\n",
    "\n",
    "**Ans:**\n",
    "\n",
    "        Both list and string are sequencial. Some of the basic functionalities are similar in both the data types such as slicing, concatenation etc."
   ]
  },
  {
   "cell_type": "markdown",
   "id": "e4564986",
   "metadata": {},
   "source": [
    "**13. What's the difference between tuples and lists?**\n",
    "\n",
    "**Ans:**\n",
    "\n",
    "        Difference between Tuples & Lists:\n",
    "        1. Mutability - Tuples are immutable and lists are mutable\n",
    "        2. Representation - Tuples are representated by () and lists are representated by []\n",
    "        3. Memory Consumption - Tuples consumes less than lists due to Mutability."
   ]
  },
  {
   "cell_type": "markdown",
   "id": "d40077dd",
   "metadata": {},
   "source": [
    "**14. How do you type a tuple value that only contains the integer 42?**\n",
    "\n",
    "**Ans:**\n",
    "\n",
    "        The correct syntax is (42,).\n",
    "        Note - \" , \" is mandatory otherwise instead of data type tuple it will result in int.\n",
    "   For example:\n",
    "   "
   ]
  },
  {
   "cell_type": "code",
   "execution_count": 12,
   "id": "c50c8666",
   "metadata": {},
   "outputs": [
    {
     "name": "stdout",
     "output_type": "stream",
     "text": [
      "<class 'int'>\n",
      "<class 'tuple'>\n"
     ]
    }
   ],
   "source": [
    "x = (42)\n",
    "\n",
    "y = (42,)\n",
    "\n",
    "print(type(x))\n",
    "print(type(y))"
   ]
  },
  {
   "cell_type": "markdown",
   "id": "a1443160",
   "metadata": {},
   "source": [
    "**15. How do you get a list value's tuple form? How do you get a tuple value's list form?**\n",
    "\n",
    "**Ans:**\n",
    "\n",
    "      To get the values of list into tuple and tuple values to list, one can use type casting functions i.e list() & tuple()"
   ]
  },
  {
   "cell_type": "code",
   "execution_count": 13,
   "id": "574b03b2",
   "metadata": {},
   "outputs": [
    {
     "name": "stdout",
     "output_type": "stream",
     "text": [
      "<class 'tuple'> (2, 3, 4, 5, 6)\n",
      "##################################################\n",
      "<class 'list'> [2, 3, 4, 5, 6]\n"
     ]
    }
   ],
   "source": [
    "# List to tuple\n",
    "\n",
    "a = [2,3,4,5,6]\n",
    "\n",
    "a1 = tuple(a)\n",
    "\n",
    "print(type(a1),a1)\n",
    "\n",
    "print(\"#\"*50)\n",
    "# Tuple to list\n",
    "\n",
    "b = (2,3,4,5,6)\n",
    "\n",
    "b1 = list(b)\n",
    "\n",
    "print(type(b1),b1)"
   ]
  },
  {
   "cell_type": "markdown",
   "id": "a4ee94ec",
   "metadata": {},
   "source": [
    "**16. Variables that \"contain\" list values are not necessarily lists themselves. Instead, what do they contain?**\n",
    "\n",
    "**Ans:**\n",
    "\n",
    "        They contains references to the list values."
   ]
  },
  {
   "cell_type": "markdown",
   "id": "71decc4f",
   "metadata": {},
   "source": [
    "**17. How do you distinguish between copy.copy() and copy.deepcopy()?**\n",
    "\n",
    "**Ans:**\n",
    "\n",
    "        copy.copy() makes a clone of the original object, any changes made into the copied(new) object will reflect in the original object.\n",
    "        copy.deepcopy() makes a clone of the original object but, any changes made to the copied or new object won't afftect the original object."
   ]
  }
 ],
 "metadata": {
  "kernelspec": {
   "display_name": "Python 3 (ipykernel)",
   "language": "python",
   "name": "python3"
  },
  "language_info": {
   "codemirror_mode": {
    "name": "ipython",
    "version": 3
   },
   "file_extension": ".py",
   "mimetype": "text/x-python",
   "name": "python",
   "nbconvert_exporter": "python",
   "pygments_lexer": "ipython3",
   "version": "3.9.12"
  }
 },
 "nbformat": 4,
 "nbformat_minor": 5
}
