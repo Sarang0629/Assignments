{
 "cells": [
  {
   "cell_type": "markdown",
   "id": "8fa05032",
   "metadata": {},
   "source": [
    "# Assignment NO.05"
   ]
  },
  {
   "cell_type": "markdown",
   "id": "b4e2e056",
   "metadata": {},
   "source": [
    "**1. What does an empty dictionary's code look like?**\n",
    "\n",
    "**Ans:**\n",
    "\n",
    "      To create an empty dictionary, first create a variable name which will be the name of the dictionary. Then, assign the variable to an empty set of curly braces, {} \n",
    "      \n",
    "      For Example:\n",
    "      In the below code, variable a is assigned with set of curly braces {} without any values resulting an empty dictionary."
   ]
  },
  {
   "cell_type": "code",
   "execution_count": 1,
   "id": "9e3d5d5b",
   "metadata": {},
   "outputs": [],
   "source": [
    "a = {}"
   ]
  },
  {
   "cell_type": "markdown",
   "id": "65334a80",
   "metadata": {},
   "source": [
    "**2. What is the value of a dictionary value with the key 'foo' and the value 42?**"
   ]
  },
  {
   "cell_type": "code",
   "execution_count": 2,
   "id": "1794a2ae",
   "metadata": {},
   "outputs": [
    {
     "data": {
      "text/plain": [
       "42"
      ]
     },
     "execution_count": 2,
     "metadata": {},
     "output_type": "execute_result"
    }
   ],
   "source": [
    "#Ans:\n",
    "a = {'foo' : 42}\n",
    "a['foo']"
   ]
  },
  {
   "cell_type": "markdown",
   "id": "fb369302",
   "metadata": {},
   "source": [
    "**3. What is the most significant distinction between a dictionary and a list?**\n",
    "\n",
    "**Ans:**\n",
    "    \n",
    "    The most significant distinction between in a dictionary and a list is that the values or items in a dictionary are accessed by key whereas, items or values are accessed by index values.\n",
    "    The items stored in the dictionary are unordered, and while the items in a list are ordered."
   ]
  },
  {
   "cell_type": "markdown",
   "id": "02d76190",
   "metadata": {},
   "source": [
    "**4. What happens if you try to access spam['foo'] if spam is {'bar': 100}?**\n",
    "\n",
    "**Ans:**\n",
    "    \n",
    "    If we try to access spam['foo'] if spam is {'bar' : 100}, it will give us KeyError error."
   ]
  },
  {
   "cell_type": "markdown",
   "id": "a59e5a94",
   "metadata": {},
   "source": [
    "**5. If a dictionary is stored in spam, what is the difference between the expressions 'cat' in spam and 'cat' in spam.keys()?**\n",
    "\n",
    "**Ans:**\n",
    "    \n",
    "    There is no difference. The in operator checks whether a value exists as a key in the dictionary.\n",
    "    For Example:"
   ]
  },
  {
   "cell_type": "code",
   "execution_count": 3,
   "id": "d16afaee",
   "metadata": {},
   "outputs": [
    {
     "name": "stdout",
     "output_type": "stream",
     "text": [
      "True\n",
      "True\n"
     ]
    }
   ],
   "source": [
    "spam = {'cat':12}\n",
    "print('cat' in spam)\n",
    "print('cat' in spam.keys())"
   ]
  },
  {
   "cell_type": "markdown",
   "id": "9d2b11c3",
   "metadata": {},
   "source": [
    "**6. If a dictionary is stored in spam, what is the difference between the expressions 'cat' in spam and 'cat' in spam.values()?**\n",
    "\n",
    "**Ans:** \n",
    "\n",
    "    'cat' in spam checks whether there is a 'cat' key in the dictionary, while 'cat' in spam.values() checks whether there is a value 'cat' for one of the keys in spam.\n",
    "    For Example:\n",
    "    "
   ]
  },
  {
   "cell_type": "code",
   "execution_count": 4,
   "id": "79f42ba3",
   "metadata": {},
   "outputs": [
    {
     "name": "stdout",
     "output_type": "stream",
     "text": [
      "True\n",
      "False\n"
     ]
    }
   ],
   "source": [
    "spam = {'cat':12}\n",
    "print('cat' in spam)\n",
    "print('cat' in spam.values())"
   ]
  },
  {
   "cell_type": "code",
   "execution_count": 5,
   "id": "1fd88f48",
   "metadata": {},
   "outputs": [
    {
     "data": {
      "text/plain": [
       "'black'"
      ]
     },
     "execution_count": 5,
     "metadata": {},
     "output_type": "execute_result"
    }
   ],
   "source": [
    "# 7. What is a shortcut for the following code? \n",
    "#           if 'color' not in spam:\n",
    "#          spam['color'] = 'black'\n",
    "\n",
    "spam.setdefault('color', 'black')"
   ]
  },
  {
   "cell_type": "markdown",
   "id": "e8f85038",
   "metadata": {},
   "source": [
    "**8. How do you \"pretty print\" dictionary values using which module and function?**\n",
    "\n",
    "**Ans:**\n",
    "    \n",
    "    pprint is a Python module that provides the capability to pretty print Python data types to be more readable. This module also supports pretty-printing dictionary.\n",
    "    Within the pprint module there is a function with the same name pprint(), which is the function used to pretty-print the given string or object.\n",
    "    \n",
    "    Syntax - pprint.pprint()"
   ]
  }
 ],
 "metadata": {
  "kernelspec": {
   "display_name": "Python 3 (ipykernel)",
   "language": "python",
   "name": "python3"
  },
  "language_info": {
   "codemirror_mode": {
    "name": "ipython",
    "version": 3
   },
   "file_extension": ".py",
   "mimetype": "text/x-python",
   "name": "python",
   "nbconvert_exporter": "python",
   "pygments_lexer": "ipython3",
   "version": "3.9.12"
  }
 },
 "nbformat": 4,
 "nbformat_minor": 5
}
