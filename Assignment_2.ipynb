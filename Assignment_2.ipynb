{
 "cells": [
  {
   "cell_type": "markdown",
   "id": "b15cfd1a",
   "metadata": {},
   "source": [
    "**1. What are the two values of the Boolean data type? How do you write them?**\n",
    "\n",
    "**Ans:** \n",
    "1. True and False are the two values of Boolean Data type.\n",
    "2. We write them as first letter Capital and rest of the word in lowercase.\n",
    "3. We can use comparison operators and logic operators to form a logic resulting boolean values."
   ]
  },
  {
   "cell_type": "markdown",
   "id": "c336042f",
   "metadata": {},
   "source": [
    "**2. What are the three different types of Boolean operators?**\n",
    "\n",
    "**Ans:** AND, OR & NOT are the three different types of Boolean operators.\n"
   ]
  },
  {
   "cell_type": "markdown",
   "id": "351a9110",
   "metadata": {},
   "source": [
    "**3. Make a list of each Boolean operator's truth tables (i.e. every possible combination of Boolean values for the operator and what it evaluate )**\n",
    "\n",
    "**Ans:**"
   ]
  },
  {
   "cell_type": "code",
   "execution_count": 1,
   "id": "81095d6f",
   "metadata": {},
   "outputs": [
    {
     "name": "stdout",
     "output_type": "stream",
     "text": [
      "The value for (5 > 4) and (3 == 5) is : False\n",
      "The value for not (5 > 4) is : False\n",
      "The value for (5 > 4) or (3 == 5) is : True\n",
      "The value for not ((5 > 4) or (3 == 5)) is : False\n",
      "The value for (True and True) and (True == False) is : False\n",
      "The value for (not False) or (not True) is :  True\n"
     ]
    }
   ],
   "source": [
    "#**4. What are the values of the following expressions?**\n",
    "(5 > 4) and (3 == 5)\n",
    "not (5 > 4)\n",
    "(5 > 4) or (3 == 5)\n",
    "not ((5 > 4) or (3 == 5))\n",
    "(True and True) and (True == False)\n",
    "(not False) or (not True)\n",
    "\n",
    "\n",
    "#ANS:\n",
    "print(\"The value for (5 > 4) and (3 == 5) is :\",(5 > 4) and (3 == 5))\n",
    "print(\"The value for not (5 > 4) is :\",not (5 > 4))\n",
    "print(\"The value for (5 > 4) or (3 == 5) is :\",(5 > 4) or (3 == 5))\n",
    "print(\"The value for not ((5 > 4) or (3 == 5)) is :\",not ((5 > 4) or (3 == 5)))\n",
    "print(\"The value for (True and True) and (True == False) is :\",(True and True) and (True == False))\n",
    "print(\"The value for (not False) or (not True) is : \",(not False) or (not True))"
   ]
  },
  {
   "cell_type": "markdown",
   "id": "922e81b1",
   "metadata": {},
   "source": [
    "**5. What are the six comparison operators?**\n",
    "\n",
    "**Ans:**\n",
    "The six comparison operators are as follows:\n",
    "1. \"==\" which refers to equals to \n",
    "2. \"!=\" which refers to not equals to \n",
    "3. \"<\" which refers to smaller than\n",
    "4. \">\" which refers to larger than\n",
    "5. \"<=\" which refers to less than or equal to\n",
    "6. \">=\" which refers to greater than or equal to"
   ]
  },
  {
   "cell_type": "markdown",
   "id": "2964ada7",
   "metadata": {},
   "source": [
    "**6. How do you tell the difference between the equal to and assignment operators?Describe a condition and when you would use one.**\n",
    "\n",
    "**Ans:**  \n",
    "**Difference between equal to and assignment operator:**\\\n",
    "1.The  \"==\" is a operator which is used to check whether the two operands are equal to eachother or not.\\\n",
    "2.The \"=\" is used to assign a certain value to the variable.\n",
    "\n",
    "**Condition**\\\n",
    "1. \"==\" is used when we have to compare two values which results into boolean values i.e. True or False depending whether the given values are equal to(True) or not equal to(False) each other \n",
    "2.When or If we want to create a variable then we use \"=\" assignment operator ."
   ]
  },
  {
   "cell_type": "markdown",
   "id": "36095aa8",
   "metadata": {},
   "source": [
    "**7. Identify the three blocks in this code:**\n",
    "spam = 0\n",
    "if spam == 10:\n",
    "    print('eggs')\n",
    "if spam > 5:\n",
    "    print('bacon')\n",
    "else:\n",
    "    print('ham')\n",
    "    print('spam')\n",
    "    print('spam')\n",
    "    \n",
    "**Ans:**\n",
    "\n",
    "1.The first block is a \"if statement\" which implies that if the value of spam is equal to 10 then it will print \"eggs\"\\\n",
    "2.The second block is writtten in such a way that it will result printing \"bacon\" if the value is greater than 5\\\n",
    "3.The third block is written in such a manner that if above two statements does not fullfill the conditions then the third block will print \"ham\",\"spam\",spam\"\n",
    "\n",
    "**Note: As the value of spam is 0 the code will show results of third block**"
   ]
  },
  {
   "cell_type": "markdown",
   "id": "4d57cf2e",
   "metadata": {},
   "source": [
    "**8. Write code that prints Hello if 1 is stored in spam, prints Howdy if 2 is stored in spam, and prints Greetings! if anything else is stored in spam.**"
   ]
  },
  {
   "cell_type": "code",
   "execution_count": 2,
   "id": "6f356dc2",
   "metadata": {},
   "outputs": [
    {
     "name": "stdout",
     "output_type": "stream",
     "text": [
      "Howdy\n"
     ]
    }
   ],
   "source": [
    "#Ans:\n",
    "spam = 2\n",
    "\n",
    "if spam == 1:\n",
    "    print(\"Hello\")\n",
    "elif spam == 2:\n",
    "    print(\"Howdy\")\n",
    "else:\n",
    "    print(\"Greetings!\")"
   ]
  },
  {
   "cell_type": "markdown",
   "id": "f16b0bc4",
   "metadata": {},
   "source": [
    "**9.If your programme is stuck in an endless loop, what keys you’ll press?**\n",
    "\n",
    "**Ans:** I will use stop kernel button on the screen or CTRL + C to stop the kernel"
   ]
  },
  {
   "cell_type": "markdown",
   "id": "edaf775a",
   "metadata": {},
   "source": [
    "**10. How can you tell the difference between break and continue?**\n",
    "\n",
    "**Ans:**\n",
    "\n",
    "1.The Python break statement stops the loop in which the statement is placed. When a break statement is executed, the statements after the contents of the loop are executed.\n",
    "\n",
    "2.The continue statement instructs a loop to continue to the next iteration. Any code that follows the continue statement is not executed.\n",
    "\n",
    "\n",
    " "
   ]
  },
  {
   "cell_type": "markdown",
   "id": "4985ed5d",
   "metadata": {},
   "source": [
    "**11. In a for loop, what is the difference between range(10), range(0, 10), and range(0, 10, 1)?**\n",
    "\n",
    "**Ans:**\n",
    "\n",
    "There is absolutely no difference between range(10), range(0,10) and range(0,10,1) in a for loop, because all three of them gives the same ouput and has the same meaning.\n",
    "for example, range(10) says that take values from 0-10(9) which is propotionate to range (0,10) which has step value of 1 by default which is directly proportional to range(0,10,1)."
   ]
  },
  {
   "cell_type": "markdown",
   "id": "e89167f7",
   "metadata": {},
   "source": [
    "**12. Write a short program that prints the numbers 1 to 10 using a for loop. Then write an equivalent program that prints the numbers 1 to 10 using a while loop.**"
   ]
  },
  {
   "cell_type": "code",
   "execution_count": 3,
   "id": "48e4cd13",
   "metadata": {},
   "outputs": [
    {
     "name": "stdout",
     "output_type": "stream",
     "text": [
      "1\n",
      "2\n",
      "3\n",
      "4\n",
      "5\n",
      "6\n",
      "7\n",
      "8\n",
      "9\n",
      "10\n"
     ]
    }
   ],
   "source": [
    "#Ans:\n",
    "\n",
    "#1. Using for loop: \n",
    "for i in range(1,11,1):\n",
    "    print(i)"
   ]
  },
  {
   "cell_type": "code",
   "execution_count": 4,
   "id": "c81377e8",
   "metadata": {},
   "outputs": [
    {
     "name": "stdout",
     "output_type": "stream",
     "text": [
      "1\n",
      "2\n",
      "3\n",
      "4\n",
      "5\n",
      "6\n",
      "7\n",
      "8\n",
      "9\n",
      "10\n"
     ]
    }
   ],
   "source": [
    "#2. Using while loop\"\n",
    "i = 1\n",
    "while i<=10:\n",
    "    print(i)\n",
    "    i+=1"
   ]
  },
  {
   "cell_type": "markdown",
   "id": "58bba026",
   "metadata": {},
   "source": [
    "**13. If you had a function named bacon() inside a module named spam, how would you call it after importing spam?**\n",
    "\n",
    "**Ans:** First mention the module's name i.e spam followed by the function we want to call that is in this scenario bacon().\n",
    "example: spam.bacon()"
   ]
  }
 ],
 "metadata": {
  "kernelspec": {
   "display_name": "Python 3 (ipykernel)",
   "language": "python",
   "name": "python3"
  },
  "language_info": {
   "codemirror_mode": {
    "name": "ipython",
    "version": 3
   },
   "file_extension": ".py",
   "mimetype": "text/x-python",
   "name": "python",
   "nbconvert_exporter": "python",
   "pygments_lexer": "ipython3",
   "version": "3.9.12"
  }
 },
 "nbformat": 4,
 "nbformat_minor": 5
}
