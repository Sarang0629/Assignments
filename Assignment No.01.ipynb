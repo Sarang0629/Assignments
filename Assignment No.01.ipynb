{
 "cells": [
  {
   "cell_type": "raw",
   "id": "43f3b27a",
   "metadata": {},
   "source": [
    "Q.1. In the below elements which of them are values or an expression? \n",
    "eg:- values can be integer or string and expressions will be mathematical operators.\n",
    "\n",
    "* , 'hello', -87.8 , - , / , + , 6 \n",
    "\n",
    "Ans:\n",
    "Values: 'hello' , -87.6 , 6 \n",
    "Expressions: *, - , / , +"
   ]
  },
  {
   "cell_type": "raw",
   "id": "e4b4b7e8",
   "metadata": {},
   "source": [
    "Q.2. What is the difference between string and variable? Ans:\n",
    "\n",
    "Variable: A variable is a name in which values are stored and can be used to call upon later.\n",
    "\n",
    "String: A string is a sequence of characters which are stored in a Variable as values."
   ]
  },
  {
   "cell_type": "raw",
   "id": "822ace1b",
   "metadata": {},
   "source": [
    "Q.3 Describe three different data types.\n",
    "\n",
    "Ans:\n",
    "There are various forms of Data Types present in python, some of them are given as follows:\n",
    "1. Numeric- Integer, Float, Complex\n",
    "2. Sequencial-List & Tuple\n",
    "3. Boolean\n",
    "4. Dictionary\n",
    "5. String\n",
    "\n",
    "1. Numeric Data Type consists of numbers both positive and negative whole numbers with decimals and complex numbers(consists of real number +imaginary number)\n",
    "\n",
    "2. Sequencial Data Type consists of List(Mutable) which is described under [] to store data & Tuples(Im-mutable) which is decribed as or in () to store data.\n",
    "\n",
    "3. Boolean is a Data Type which gives output in 1 or 0 i.e True or False.\n",
    "\n",
    "4. Dictionary is a Data Type which uses keyword and values. It uses {} to store data.\n",
    "\n",
    "5. String is a Data Type in which data is stored inside quotes or double quotes also sometimes triple quotes like ' ',\" \",'\" '\". It is a series of characters under quotes."
   ]
  },
  {
   "cell_type": "raw",
   "id": "7dcae591",
   "metadata": {},
   "source": [
    "Q.4. What is an expression made up of? What do all expressions do?\n",
    "\n",
    "Ans:\n",
    "1. An expression is a sentence with a minimum two numbers or variables and at least one mathematical operation.\n",
    "2. An expression is made-up of an operator and oprand which are used to conduct an mathematical operation.\n",
    "3. Expressions are used to do mathematical operations like addition, substraction, multiplication & division.\n"
   ]
  },
  {
   "cell_type": "raw",
   "id": "2b2e62c4",
   "metadata": {},
   "source": [
    "Q.5. This assignment statements, like spam = 10. What is the difference between an expression and a statement?\n",
    "\n",
    "Ans:\n",
    "Expression: An expression is a set of combination of variables, operators & integers which gives a certain value.\n",
    "Statement: A statement is a command that can be executed. \n"
   ]
  },
  {
   "cell_type": "code",
   "execution_count": 1,
   "id": "0fa389c6",
   "metadata": {},
   "outputs": [
    {
     "data": {
      "text/plain": [
       "23"
      ]
     },
     "execution_count": 1,
     "metadata": {},
     "output_type": "execute_result"
    }
   ],
   "source": [
    "##  Q.6. After running the following code, what does the variable bacon contain?\n",
    "#  bacon = 22\n",
    "# bacon + 1\n",
    "\n",
    "#Ans:\n",
    "bacon = 22\n",
    "bacon +1\n"
   ]
  },
  {
   "cell_type": "code",
   "execution_count": 2,
   "id": "95ec95a9",
   "metadata": {},
   "outputs": [
    {
     "name": "stdout",
     "output_type": "stream",
     "text": [
      "spamspamspam\n",
      "spamspamspam\n"
     ]
    }
   ],
   "source": [
    "## Q.7. What should the values of the following two terms be?\n",
    "# 'spam' + 'spamspam'\n",
    "# 'spam' * 3\n",
    "\n",
    "# Ans:\n",
    "\n",
    "print('spam' + 'spamspam')\n",
    "\n",
    "print('spam'*3)"
   ]
  },
  {
   "cell_type": "raw",
   "id": "ebb2d723",
   "metadata": {},
   "source": [
    "Q.8. Why is eggs a valid variable name while 100 is invalid?\n",
    "Ans:\n",
    "Python Language is designed in such a way that integers cannot be a variables, whereas alphabets or names can be used as variables to store data or values"
   ]
  },
  {
   "cell_type": "raw",
   "id": "30940d5b",
   "metadata": {},
   "source": [
    "Q.9. What three functions can be used to get the integer, floating-point number, or string version of a value?\n",
    "\n",
    "Ans.\n",
    "Functions can be used to get the integer, floating-point number & string are as follows:\n",
    "1. int()\n",
    "2. float()\n",
    "3. str()"
   ]
  },
  {
   "cell_type": "code",
   "execution_count": 3,
   "id": "9317634c",
   "metadata": {},
   "outputs": [
    {
     "data": {
      "text/plain": [
       "'I have eaten99burritos'"
      ]
     },
     "execution_count": 3,
     "metadata": {},
     "output_type": "execute_result"
    }
   ],
   "source": [
    "## 10. Why does this expression cause an error? How can you fix it?\n",
    "# 'I have eaten ' + 99 + ' burritos.'\n",
    "\n",
    "#Ans:\n",
    "# The above statement consists of two different data types which is string and integer, a direct concatanation operation is not supported by python it gives an TypeError.\n",
    "# To solve this convert the whole statement into one single data type which is string as follows:\n",
    "\n",
    "'I have eaten' + '99' + 'burritos'"
   ]
  }
 ],
 "metadata": {
  "kernelspec": {
   "display_name": "Python 3 (ipykernel)",
   "language": "python",
   "name": "python3"
  },
  "language_info": {
   "codemirror_mode": {
    "name": "ipython",
    "version": 3
   },
   "file_extension": ".py",
   "mimetype": "text/x-python",
   "name": "python",
   "nbconvert_exporter": "python",
   "pygments_lexer": "ipython3",
   "version": "3.9.7"
  }
 },
 "nbformat": 4,
 "nbformat_minor": 5
}
